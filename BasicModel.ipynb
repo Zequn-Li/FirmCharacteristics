{
 "cells": [
  {
   "cell_type": "code",
   "execution_count": 1,
   "metadata": {},
   "outputs": [
    {
     "name": "stderr",
     "output_type": "stream",
     "text": [
      "2023-10-11 11:34:27.379872: I tensorflow/core/platform/cpu_feature_guard.cc:193] This TensorFlow binary is optimized with oneAPI Deep Neural Network Library (oneDNN) to use the following CPU instructions in performance-critical operations:  AVX2 FMA\n",
      "To enable them in other operations, rebuild TensorFlow with the appropriate compiler flags.\n"
     ]
    }
   ],
   "source": [
    "import pandas as pd\n",
    "import numpy as np\n",
    "import scipy.stats as stats\n",
    "from itertools import product\n",
    "import statsmodels.api as sm\n",
    "from PortfolioAnalysis import *\n",
    "\n",
    "from DataPipeline import DataPipeline, MSE, R2, r2_metrics\n",
    "\n",
    "file_path = '/Users/zequnli/LocalData/'"
   ]
  },
  {
   "cell_type": "code",
   "execution_count": 2,
   "metadata": {},
   "outputs": [],
   "source": [
    "# load data\n",
    "dataset = DataPipeline(file_path)"
   ]
  },
  {
   "cell_type": "code",
   "execution_count": 3,
   "metadata": {},
   "outputs": [],
   "source": [
    "train_mask = ((dataset.data['yyyymm']>196400)&(dataset.data['yyyymm'] < 197500))\n",
    "validation_mask = (dataset.data['yyyymm'] >= 197500) & (dataset.data['yyyymm'] < 198900)\n",
    "test_mask = (dataset.data['yyyymm'] > 198900)"
   ]
  },
  {
   "cell_type": "markdown",
   "metadata": {},
   "source": [
    "# Naive Model"
   ]
  },
  {
   "cell_type": "code",
   "execution_count": 4,
   "metadata": {},
   "outputs": [],
   "source": [
    "N = dataset.data.shape[0]"
   ]
  },
  {
   "cell_type": "code",
   "execution_count": 5,
   "metadata": {},
   "outputs": [
    {
     "data": {
      "text/html": [
       "<div>\n",
       "<style scoped>\n",
       "    .dataframe tbody tr th:only-of-type {\n",
       "        vertical-align: middle;\n",
       "    }\n",
       "\n",
       "    .dataframe tbody tr th {\n",
       "        vertical-align: top;\n",
       "    }\n",
       "\n",
       "    .dataframe thead th {\n",
       "        text-align: right;\n",
       "    }\n",
       "</style>\n",
       "<table border=\"1\" class=\"dataframe\">\n",
       "  <thead>\n",
       "    <tr style=\"text-align: right;\">\n",
       "      <th></th>\n",
       "      <th>yyyymm</th>\n",
       "      <th>permno</th>\n",
       "      <th>exret</th>\n",
       "      <th>me</th>\n",
       "      <th>pred_naive</th>\n",
       "    </tr>\n",
       "  </thead>\n",
       "  <tbody>\n",
       "    <tr>\n",
       "      <th>0</th>\n",
       "      <td>196307</td>\n",
       "      <td>10006</td>\n",
       "      <td>-4.786129</td>\n",
       "      <td>134.40250</td>\n",
       "      <td>0.0</td>\n",
       "    </tr>\n",
       "    <tr>\n",
       "      <th>1</th>\n",
       "      <td>196307</td>\n",
       "      <td>10014</td>\n",
       "      <td>-0.270000</td>\n",
       "      <td>11.11725</td>\n",
       "      <td>0.0</td>\n",
       "    </tr>\n",
       "    <tr>\n",
       "      <th>2</th>\n",
       "      <td>196307</td>\n",
       "      <td>10030</td>\n",
       "      <td>-6.633636</td>\n",
       "      <td>83.73900</td>\n",
       "      <td>0.0</td>\n",
       "    </tr>\n",
       "    <tr>\n",
       "      <th>3</th>\n",
       "      <td>196307</td>\n",
       "      <td>10057</td>\n",
       "      <td>-9.674990</td>\n",
       "      <td>29.25000</td>\n",
       "      <td>0.0</td>\n",
       "    </tr>\n",
       "    <tr>\n",
       "      <th>4</th>\n",
       "      <td>196307</td>\n",
       "      <td>10065</td>\n",
       "      <td>1.172308</td>\n",
       "      <td>90.83550</td>\n",
       "      <td>0.0</td>\n",
       "    </tr>\n",
       "  </tbody>\n",
       "</table>\n",
       "</div>"
      ],
      "text/plain": [
       "   yyyymm  permno     exret         me  pred_naive\n",
       "0  196307   10006 -4.786129  134.40250         0.0\n",
       "1  196307   10014 -0.270000   11.11725         0.0\n",
       "2  196307   10030 -6.633636   83.73900         0.0\n",
       "3  196307   10057 -9.674990   29.25000         0.0\n",
       "4  196307   10065  1.172308   90.83550         0.0"
      ]
     },
     "execution_count": 5,
     "metadata": {},
     "output_type": "execute_result"
    }
   ],
   "source": [
    "dataset.result = dataset.result.assign(pred_naive = np.zeros(N))\n",
    "dataset.result.head()"
   ]
  },
  {
   "cell_type": "code",
   "execution_count": 6,
   "metadata": {},
   "outputs": [
    {
     "name": "stdout",
     "output_type": "stream",
     "text": [
      "Naive Model\n",
      "Training MSE:  178.69111790342325\n",
      "Training R2:  0.0\n",
      "Validation MSE:  269.9448932916952\n",
      "Validation R2:  0.0\n",
      "Testing MSE:  344.6284089110785\n",
      "Testing R2:  0.0\n"
     ]
    }
   ],
   "source": [
    "print('Naive Model')\n",
    "print('Training MSE: ', MSE(dataset.result[train_mask]['exret'], dataset.result[train_mask]['pred_naive']))\n",
    "print('Training R2: ', R2(dataset.result[train_mask]['exret'], dataset.result[train_mask]['pred_naive']))\n",
    "print('Validation MSE: ', MSE(dataset.result[validation_mask]['exret'], dataset.result[validation_mask]['pred_naive']))\n",
    "print('Validation R2: ', R2(dataset.result[validation_mask]['exret'], dataset.result[validation_mask]['pred_naive']))\n",
    "print('Testing MSE: ', MSE(dataset.result[test_mask]['exret'], dataset.result[test_mask]['pred_naive']))\n",
    "print('Testing R2: ', R2(dataset.result[test_mask]['exret'], dataset.result[test_mask]['pred_naive']))\n"
   ]
  },
  {
   "cell_type": "markdown",
   "metadata": {},
   "source": [
    "# Fama-Macbeth Regression"
   ]
  },
  {
   "cell_type": "code",
   "execution_count": 7,
   "metadata": {},
   "outputs": [],
   "source": [
    "params = {}\n",
    "result_insample = []\n",
    "for year,month in product(range(1963,2022),range(1,13)):\n",
    "    if year == 1963 and month < 7:\n",
    "        continue\n",
    "    X,Y, _ = dataset.LoadOneMonthXY(year,month)\n",
    "    X = sm.add_constant(X)\n",
    "    lr = sm.OLS(Y,X).fit()\n",
    "    params[year*100+month] = lr.params\n",
    "    result_insample.extend(lr.predict(X))\n",
    "#params = pd.DataFrame(params).T"
   ]
  },
  {
   "cell_type": "code",
   "execution_count": 8,
   "metadata": {},
   "outputs": [
    {
     "data": {
      "text/html": [
       "<div>\n",
       "<style scoped>\n",
       "    .dataframe tbody tr th:only-of-type {\n",
       "        vertical-align: middle;\n",
       "    }\n",
       "\n",
       "    .dataframe tbody tr th {\n",
       "        vertical-align: top;\n",
       "    }\n",
       "\n",
       "    .dataframe thead th {\n",
       "        text-align: right;\n",
       "    }\n",
       "</style>\n",
       "<table border=\"1\" class=\"dataframe\">\n",
       "  <thead>\n",
       "    <tr style=\"text-align: right;\">\n",
       "      <th></th>\n",
       "      <th>const</th>\n",
       "      <th>mvel1</th>\n",
       "      <th>beta</th>\n",
       "      <th>betasq</th>\n",
       "      <th>chmom</th>\n",
       "      <th>dolvol</th>\n",
       "      <th>idiovol</th>\n",
       "      <th>indmom</th>\n",
       "      <th>mom1m</th>\n",
       "      <th>mom6m</th>\n",
       "      <th>...</th>\n",
       "      <th>sp</th>\n",
       "      <th>tang</th>\n",
       "      <th>tb</th>\n",
       "      <th>baspread</th>\n",
       "      <th>ill</th>\n",
       "      <th>maxret</th>\n",
       "      <th>retvol</th>\n",
       "      <th>std_dolvol</th>\n",
       "      <th>std_turn</th>\n",
       "      <th>zerotrade</th>\n",
       "    </tr>\n",
       "  </thead>\n",
       "  <tbody>\n",
       "    <tr>\n",
       "      <th>196307</th>\n",
       "      <td>-0.699169</td>\n",
       "      <td>-4.689051</td>\n",
       "      <td>159.213833</td>\n",
       "      <td>-159.950747</td>\n",
       "      <td>-2.824086</td>\n",
       "      <td>-2.671773</td>\n",
       "      <td>0.215054</td>\n",
       "      <td>0.665171</td>\n",
       "      <td>-1.231144</td>\n",
       "      <td>3.493258</td>\n",
       "      <td>...</td>\n",
       "      <td>-0.094346</td>\n",
       "      <td>-0.032077</td>\n",
       "      <td>0.441298</td>\n",
       "      <td>-0.386946</td>\n",
       "      <td>-7.586753</td>\n",
       "      <td>-0.882051</td>\n",
       "      <td>2.121411</td>\n",
       "      <td>0.660516</td>\n",
       "      <td>0.972391</td>\n",
       "      <td>0.427900</td>\n",
       "    </tr>\n",
       "    <tr>\n",
       "      <th>196308</th>\n",
       "      <td>3.744367</td>\n",
       "      <td>2.409429</td>\n",
       "      <td>2.596375</td>\n",
       "      <td>-1.236768</td>\n",
       "      <td>0.805640</td>\n",
       "      <td>-2.054701</td>\n",
       "      <td>0.102103</td>\n",
       "      <td>-0.073179</td>\n",
       "      <td>-1.493755</td>\n",
       "      <td>-0.792728</td>\n",
       "      <td>...</td>\n",
       "      <td>0.373587</td>\n",
       "      <td>-1.032377</td>\n",
       "      <td>0.790753</td>\n",
       "      <td>0.949044</td>\n",
       "      <td>-2.403421</td>\n",
       "      <td>1.398303</td>\n",
       "      <td>-0.799424</td>\n",
       "      <td>-0.269395</td>\n",
       "      <td>0.404065</td>\n",
       "      <td>0.829455</td>\n",
       "    </tr>\n",
       "    <tr>\n",
       "      <th>196309</th>\n",
       "      <td>-1.667693</td>\n",
       "      <td>-2.187316</td>\n",
       "      <td>0.591948</td>\n",
       "      <td>-1.135714</td>\n",
       "      <td>-2.240378</td>\n",
       "      <td>0.193290</td>\n",
       "      <td>0.131997</td>\n",
       "      <td>-0.830155</td>\n",
       "      <td>-0.642869</td>\n",
       "      <td>2.700866</td>\n",
       "      <td>...</td>\n",
       "      <td>0.886307</td>\n",
       "      <td>0.278517</td>\n",
       "      <td>-0.581983</td>\n",
       "      <td>-0.049910</td>\n",
       "      <td>0.729494</td>\n",
       "      <td>-0.198009</td>\n",
       "      <td>-0.398638</td>\n",
       "      <td>0.232616</td>\n",
       "      <td>0.309967</td>\n",
       "      <td>-0.280502</td>\n",
       "    </tr>\n",
       "    <tr>\n",
       "      <th>196310</th>\n",
       "      <td>0.804204</td>\n",
       "      <td>-0.084068</td>\n",
       "      <td>3.260203</td>\n",
       "      <td>-2.408883</td>\n",
       "      <td>2.249495</td>\n",
       "      <td>-3.475745</td>\n",
       "      <td>-0.659500</td>\n",
       "      <td>-0.043274</td>\n",
       "      <td>-1.356009</td>\n",
       "      <td>-1.731531</td>\n",
       "      <td>...</td>\n",
       "      <td>3.184287</td>\n",
       "      <td>-0.354145</td>\n",
       "      <td>-1.228431</td>\n",
       "      <td>0.516128</td>\n",
       "      <td>-2.394858</td>\n",
       "      <td>-0.224880</td>\n",
       "      <td>-0.009463</td>\n",
       "      <td>-0.469111</td>\n",
       "      <td>-0.784682</td>\n",
       "      <td>-0.664575</td>\n",
       "    </tr>\n",
       "    <tr>\n",
       "      <th>196311</th>\n",
       "      <td>-1.987795</td>\n",
       "      <td>-0.516194</td>\n",
       "      <td>0.681784</td>\n",
       "      <td>-1.720666</td>\n",
       "      <td>-0.048361</td>\n",
       "      <td>-1.269061</td>\n",
       "      <td>-1.220269</td>\n",
       "      <td>-0.781862</td>\n",
       "      <td>-1.179323</td>\n",
       "      <td>-1.222799</td>\n",
       "      <td>...</td>\n",
       "      <td>-1.022035</td>\n",
       "      <td>1.049448</td>\n",
       "      <td>0.189442</td>\n",
       "      <td>0.617172</td>\n",
       "      <td>-2.047514</td>\n",
       "      <td>-1.507139</td>\n",
       "      <td>0.265561</td>\n",
       "      <td>0.647448</td>\n",
       "      <td>-1.305455</td>\n",
       "      <td>-0.331472</td>\n",
       "    </tr>\n",
       "  </tbody>\n",
       "</table>\n",
       "<p>5 rows × 80 columns</p>\n",
       "</div>"
      ],
      "text/plain": [
       "           const     mvel1        beta      betasq     chmom    dolvol  \\\n",
       "196307 -0.699169 -4.689051  159.213833 -159.950747 -2.824086 -2.671773   \n",
       "196308  3.744367  2.409429    2.596375   -1.236768  0.805640 -2.054701   \n",
       "196309 -1.667693 -2.187316    0.591948   -1.135714 -2.240378  0.193290   \n",
       "196310  0.804204 -0.084068    3.260203   -2.408883  2.249495 -3.475745   \n",
       "196311 -1.987795 -0.516194    0.681784   -1.720666 -0.048361 -1.269061   \n",
       "\n",
       "         idiovol    indmom     mom1m     mom6m  ...        sp      tang  \\\n",
       "196307  0.215054  0.665171 -1.231144  3.493258  ... -0.094346 -0.032077   \n",
       "196308  0.102103 -0.073179 -1.493755 -0.792728  ...  0.373587 -1.032377   \n",
       "196309  0.131997 -0.830155 -0.642869  2.700866  ...  0.886307  0.278517   \n",
       "196310 -0.659500 -0.043274 -1.356009 -1.731531  ...  3.184287 -0.354145   \n",
       "196311 -1.220269 -0.781862 -1.179323 -1.222799  ... -1.022035  1.049448   \n",
       "\n",
       "              tb  baspread       ill    maxret    retvol  std_dolvol  \\\n",
       "196307  0.441298 -0.386946 -7.586753 -0.882051  2.121411    0.660516   \n",
       "196308  0.790753  0.949044 -2.403421  1.398303 -0.799424   -0.269395   \n",
       "196309 -0.581983 -0.049910  0.729494 -0.198009 -0.398638    0.232616   \n",
       "196310 -1.228431  0.516128 -2.394858 -0.224880 -0.009463   -0.469111   \n",
       "196311  0.189442  0.617172 -2.047514 -1.507139  0.265561    0.647448   \n",
       "\n",
       "        std_turn  zerotrade  \n",
       "196307  0.972391   0.427900  \n",
       "196308  0.404065   0.829455  \n",
       "196309  0.309967  -0.280502  \n",
       "196310 -0.784682  -0.664575  \n",
       "196311 -1.305455  -0.331472  \n",
       "\n",
       "[5 rows x 80 columns]"
      ]
     },
     "execution_count": 8,
     "metadata": {},
     "output_type": "execute_result"
    }
   ],
   "source": [
    "params = pd.DataFrame(params).T\n",
    "params.head()"
   ]
  },
  {
   "cell_type": "code",
   "execution_count": 9,
   "metadata": {},
   "outputs": [
    {
     "data": {
      "text/html": [
       "<div>\n",
       "<style scoped>\n",
       "    .dataframe tbody tr th:only-of-type {\n",
       "        vertical-align: middle;\n",
       "    }\n",
       "\n",
       "    .dataframe tbody tr th {\n",
       "        vertical-align: top;\n",
       "    }\n",
       "\n",
       "    .dataframe thead th {\n",
       "        text-align: right;\n",
       "    }\n",
       "</style>\n",
       "<table border=\"1\" class=\"dataframe\">\n",
       "  <thead>\n",
       "    <tr style=\"text-align: right;\">\n",
       "      <th></th>\n",
       "      <th>yyyymm</th>\n",
       "      <th>permno</th>\n",
       "      <th>exret</th>\n",
       "      <th>me</th>\n",
       "      <th>pred_naive</th>\n",
       "      <th>pred_fm_insample</th>\n",
       "    </tr>\n",
       "  </thead>\n",
       "  <tbody>\n",
       "    <tr>\n",
       "      <th>0</th>\n",
       "      <td>196307</td>\n",
       "      <td>10006</td>\n",
       "      <td>-4.786129</td>\n",
       "      <td>134.40250</td>\n",
       "      <td>0.0</td>\n",
       "      <td>0.939823</td>\n",
       "    </tr>\n",
       "    <tr>\n",
       "      <th>1</th>\n",
       "      <td>196307</td>\n",
       "      <td>10014</td>\n",
       "      <td>-0.270000</td>\n",
       "      <td>11.11725</td>\n",
       "      <td>0.0</td>\n",
       "      <td>-0.999193</td>\n",
       "    </tr>\n",
       "    <tr>\n",
       "      <th>2</th>\n",
       "      <td>196307</td>\n",
       "      <td>10030</td>\n",
       "      <td>-6.633636</td>\n",
       "      <td>83.73900</td>\n",
       "      <td>0.0</td>\n",
       "      <td>-3.975940</td>\n",
       "    </tr>\n",
       "    <tr>\n",
       "      <th>3</th>\n",
       "      <td>196307</td>\n",
       "      <td>10057</td>\n",
       "      <td>-9.674990</td>\n",
       "      <td>29.25000</td>\n",
       "      <td>0.0</td>\n",
       "      <td>0.329819</td>\n",
       "    </tr>\n",
       "    <tr>\n",
       "      <th>4</th>\n",
       "      <td>196307</td>\n",
       "      <td>10065</td>\n",
       "      <td>1.172308</td>\n",
       "      <td>90.83550</td>\n",
       "      <td>0.0</td>\n",
       "      <td>-1.657534</td>\n",
       "    </tr>\n",
       "  </tbody>\n",
       "</table>\n",
       "</div>"
      ],
      "text/plain": [
       "   yyyymm  permno     exret         me  pred_naive  pred_fm_insample\n",
       "0  196307   10006 -4.786129  134.40250         0.0          0.939823\n",
       "1  196307   10014 -0.270000   11.11725         0.0         -0.999193\n",
       "2  196307   10030 -6.633636   83.73900         0.0         -3.975940\n",
       "3  196307   10057 -9.674990   29.25000         0.0          0.329819\n",
       "4  196307   10065  1.172308   90.83550         0.0         -1.657534"
      ]
     },
     "execution_count": 9,
     "metadata": {},
     "output_type": "execute_result"
    }
   ],
   "source": [
    "dataset.result = dataset.result.assign(pred_fm_insample = result_insample)\n",
    "dataset.result.head()"
   ]
  },
  {
   "cell_type": "code",
   "execution_count": 10,
   "metadata": {},
   "outputs": [],
   "source": [
    "result_oos = []\n",
    "for year,month in product(range(1963,2022),range(1,13)):\n",
    "    X,Y, month_result = dataset.LoadOneMonthXY(year,month)\n",
    "    if year < 1975:\n",
    "        result_oos.extend(np.zeros(X.shape[0]))\n",
    "        continue\n",
    "    X = sm.add_constant(X)\n",
    "    param = params.rolling(12).mean().shift().loc[year*100+month]\n",
    "    result_oos.extend(X.dot(param))\n",
    "\n",
    "dataset.result = dataset.result.assign(pred_fm_oos = result_oos)"
   ]
  },
  {
   "cell_type": "code",
   "execution_count": 11,
   "metadata": {},
   "outputs": [
    {
     "data": {
      "text/html": [
       "<div>\n",
       "<style scoped>\n",
       "    .dataframe tbody tr th:only-of-type {\n",
       "        vertical-align: middle;\n",
       "    }\n",
       "\n",
       "    .dataframe tbody tr th {\n",
       "        vertical-align: top;\n",
       "    }\n",
       "\n",
       "    .dataframe thead th {\n",
       "        text-align: right;\n",
       "    }\n",
       "</style>\n",
       "<table border=\"1\" class=\"dataframe\">\n",
       "  <thead>\n",
       "    <tr style=\"text-align: right;\">\n",
       "      <th></th>\n",
       "      <th>yyyymm</th>\n",
       "      <th>permno</th>\n",
       "      <th>exret</th>\n",
       "      <th>me</th>\n",
       "      <th>pred_naive</th>\n",
       "      <th>pred_fm_insample</th>\n",
       "      <th>pred_fm_oos</th>\n",
       "    </tr>\n",
       "  </thead>\n",
       "  <tbody>\n",
       "    <tr>\n",
       "      <th>0</th>\n",
       "      <td>196307</td>\n",
       "      <td>10006</td>\n",
       "      <td>-4.786129</td>\n",
       "      <td>134.40250</td>\n",
       "      <td>0.0</td>\n",
       "      <td>0.939823</td>\n",
       "      <td>0.0</td>\n",
       "    </tr>\n",
       "    <tr>\n",
       "      <th>1</th>\n",
       "      <td>196307</td>\n",
       "      <td>10014</td>\n",
       "      <td>-0.270000</td>\n",
       "      <td>11.11725</td>\n",
       "      <td>0.0</td>\n",
       "      <td>-0.999193</td>\n",
       "      <td>0.0</td>\n",
       "    </tr>\n",
       "    <tr>\n",
       "      <th>2</th>\n",
       "      <td>196307</td>\n",
       "      <td>10030</td>\n",
       "      <td>-6.633636</td>\n",
       "      <td>83.73900</td>\n",
       "      <td>0.0</td>\n",
       "      <td>-3.975940</td>\n",
       "      <td>0.0</td>\n",
       "    </tr>\n",
       "    <tr>\n",
       "      <th>3</th>\n",
       "      <td>196307</td>\n",
       "      <td>10057</td>\n",
       "      <td>-9.674990</td>\n",
       "      <td>29.25000</td>\n",
       "      <td>0.0</td>\n",
       "      <td>0.329819</td>\n",
       "      <td>0.0</td>\n",
       "    </tr>\n",
       "    <tr>\n",
       "      <th>4</th>\n",
       "      <td>196307</td>\n",
       "      <td>10065</td>\n",
       "      <td>1.172308</td>\n",
       "      <td>90.83550</td>\n",
       "      <td>0.0</td>\n",
       "      <td>-1.657534</td>\n",
       "      <td>0.0</td>\n",
       "    </tr>\n",
       "  </tbody>\n",
       "</table>\n",
       "</div>"
      ],
      "text/plain": [
       "   yyyymm  permno     exret         me  pred_naive  pred_fm_insample  \\\n",
       "0  196307   10006 -4.786129  134.40250         0.0          0.939823   \n",
       "1  196307   10014 -0.270000   11.11725         0.0         -0.999193   \n",
       "2  196307   10030 -6.633636   83.73900         0.0         -3.975940   \n",
       "3  196307   10057 -9.674990   29.25000         0.0          0.329819   \n",
       "4  196307   10065  1.172308   90.83550         0.0         -1.657534   \n",
       "\n",
       "   pred_fm_oos  \n",
       "0          0.0  \n",
       "1          0.0  \n",
       "2          0.0  \n",
       "3          0.0  \n",
       "4          0.0  "
      ]
     },
     "execution_count": 11,
     "metadata": {},
     "output_type": "execute_result"
    }
   ],
   "source": [
    "dataset.result.head()"
   ]
  },
  {
   "cell_type": "code",
   "execution_count": 12,
   "metadata": {},
   "outputs": [
    {
     "name": "stdout",
     "output_type": "stream",
     "text": [
      "FM Regression\n",
      "Training MSE:  119.03600544199311\n",
      "Training R2:  0.33384486683703996\n",
      "Validation MSE:  478.7133360918769\n",
      "Validation R2:  -0.7733742996745343\n",
      "Testing MSE:  348.1440041731067\n",
      "Testing R2:  -0.010201118570394074\n"
     ]
    }
   ],
   "source": [
    "print('FM Regression')\n",
    "print('Training MSE: ', MSE(dataset.result[train_mask]['exret'], dataset.result[train_mask]['pred_fm_insample']))\n",
    "print('Training R2: ', R2(dataset.result[train_mask]['exret'], dataset.result[train_mask]['pred_fm_insample']))\n",
    "print('Validation MSE: ', MSE(dataset.result[validation_mask]['exret'], dataset.result[validation_mask]['pred_fm_oos']))\n",
    "print('Validation R2: ', R2(dataset.result[validation_mask]['exret'], dataset.result[validation_mask]['pred_fm_oos']))\n",
    "print('Testing MSE: ', MSE(dataset.result[test_mask]['exret'], dataset.result[test_mask]['pred_fm_oos']))\n",
    "print('Testing R2: ', R2(dataset.result[test_mask]['exret'], dataset.result[test_mask]['pred_fm_oos']))"
   ]
  },
  {
   "cell_type": "code",
   "execution_count": 13,
   "metadata": {},
   "outputs": [
    {
     "data": {
      "text/html": [
       "<div>\n",
       "<style scoped>\n",
       "    .dataframe tbody tr th:only-of-type {\n",
       "        vertical-align: middle;\n",
       "    }\n",
       "\n",
       "    .dataframe tbody tr th {\n",
       "        vertical-align: top;\n",
       "    }\n",
       "\n",
       "    .dataframe thead th {\n",
       "        text-align: right;\n",
       "    }\n",
       "</style>\n",
       "<table border=\"1\" class=\"dataframe\">\n",
       "  <thead>\n",
       "    <tr style=\"text-align: right;\">\n",
       "      <th></th>\n",
       "      <th>yyyymm</th>\n",
       "      <th>permno</th>\n",
       "      <th>exret</th>\n",
       "      <th>me</th>\n",
       "      <th>pred_fm_oos</th>\n",
       "      <th>portfolio</th>\n",
       "    </tr>\n",
       "  </thead>\n",
       "  <tbody>\n",
       "    <tr>\n",
       "      <th>1319006</th>\n",
       "      <td>1989-01-01</td>\n",
       "      <td>10001</td>\n",
       "      <td>1.410784</td>\n",
       "      <td>6.487000</td>\n",
       "      <td>2.247227</td>\n",
       "      <td>4</td>\n",
       "    </tr>\n",
       "    <tr>\n",
       "      <th>1319007</th>\n",
       "      <td>1989-01-01</td>\n",
       "      <td>10002</td>\n",
       "      <td>5.420149</td>\n",
       "      <td>10.428125</td>\n",
       "      <td>2.241160</td>\n",
       "      <td>4</td>\n",
       "    </tr>\n",
       "    <tr>\n",
       "      <th>1319008</th>\n",
       "      <td>1989-01-01</td>\n",
       "      <td>10003</td>\n",
       "      <td>-4.497368</td>\n",
       "      <td>40.040500</td>\n",
       "      <td>1.779155</td>\n",
       "      <td>3</td>\n",
       "    </tr>\n",
       "    <tr>\n",
       "      <th>1319009</th>\n",
       "      <td>1989-01-01</td>\n",
       "      <td>10005</td>\n",
       "      <td>-0.550000</td>\n",
       "      <td>0.785250</td>\n",
       "      <td>-1.780022</td>\n",
       "      <td>0</td>\n",
       "    </tr>\n",
       "    <tr>\n",
       "      <th>1319010</th>\n",
       "      <td>1989-01-01</td>\n",
       "      <td>10009</td>\n",
       "      <td>-1.661111</td>\n",
       "      <td>10.351000</td>\n",
       "      <td>3.067769</td>\n",
       "      <td>4</td>\n",
       "    </tr>\n",
       "  </tbody>\n",
       "</table>\n",
       "</div>"
      ],
      "text/plain": [
       "            yyyymm  permno     exret         me  pred_fm_oos  portfolio\n",
       "1319006 1989-01-01   10001  1.410784   6.487000     2.247227          4\n",
       "1319007 1989-01-01   10002  5.420149  10.428125     2.241160          4\n",
       "1319008 1989-01-01   10003 -4.497368  40.040500     1.779155          3\n",
       "1319009 1989-01-01   10005 -0.550000   0.785250    -1.780022          0\n",
       "1319010 1989-01-01   10009 -1.661111  10.351000     3.067769          4"
      ]
     },
     "execution_count": 13,
     "metadata": {},
     "output_type": "execute_result"
    }
   ],
   "source": [
    "fm_test = dataset.result[test_mask][['yyyymm','permno','exret','me','pred_fm_oos']]\n",
    "# make yyyymm as datetime\n",
    "fm_test['yyyymm'] = pd.to_datetime(fm_test['yyyymm'], format='%Y%m')\n",
    "fm_test.head()\n",
    "# for each yyyymm, form 5 portfolios based on pred_fm\n",
    "fm_test['portfolio'] = fm_test.groupby('yyyymm')['pred_fm_oos'].transform(lambda x: pd.qcut(x, 5, labels=False, duplicates='drop'))\n",
    "fm_test.head()"
   ]
  },
  {
   "cell_type": "code",
   "execution_count": 14,
   "metadata": {},
   "outputs": [
    {
     "data": {
      "text/html": [
       "<div>\n",
       "<style scoped>\n",
       "    .dataframe tbody tr th:only-of-type {\n",
       "        vertical-align: middle;\n",
       "    }\n",
       "\n",
       "    .dataframe tbody tr th {\n",
       "        vertical-align: top;\n",
       "    }\n",
       "\n",
       "    .dataframe thead th {\n",
       "        text-align: right;\n",
       "    }\n",
       "</style>\n",
       "<table border=\"1\" class=\"dataframe\">\n",
       "  <thead>\n",
       "    <tr style=\"text-align: right;\">\n",
       "      <th>portfolio</th>\n",
       "      <th>0</th>\n",
       "      <th>1</th>\n",
       "      <th>2</th>\n",
       "      <th>3</th>\n",
       "      <th>4</th>\n",
       "    </tr>\n",
       "    <tr>\n",
       "      <th>yyyymm</th>\n",
       "      <th></th>\n",
       "      <th></th>\n",
       "      <th></th>\n",
       "      <th></th>\n",
       "      <th></th>\n",
       "    </tr>\n",
       "  </thead>\n",
       "  <tbody>\n",
       "    <tr>\n",
       "      <th>1989-01-01</th>\n",
       "      <td>4.653314</td>\n",
       "      <td>4.072377</td>\n",
       "      <td>5.421194</td>\n",
       "      <td>5.422270</td>\n",
       "      <td>8.435011</td>\n",
       "    </tr>\n",
       "    <tr>\n",
       "      <th>1989-02-01</th>\n",
       "      <td>-1.491355</td>\n",
       "      <td>-0.747164</td>\n",
       "      <td>-0.764893</td>\n",
       "      <td>0.162643</td>\n",
       "      <td>1.400612</td>\n",
       "    </tr>\n",
       "    <tr>\n",
       "      <th>1989-03-01</th>\n",
       "      <td>0.482401</td>\n",
       "      <td>1.110092</td>\n",
       "      <td>0.828719</td>\n",
       "      <td>1.729592</td>\n",
       "      <td>1.262335</td>\n",
       "    </tr>\n",
       "    <tr>\n",
       "      <th>1989-04-01</th>\n",
       "      <td>-0.388324</td>\n",
       "      <td>2.545135</td>\n",
       "      <td>2.387296</td>\n",
       "      <td>2.626478</td>\n",
       "      <td>3.932036</td>\n",
       "    </tr>\n",
       "    <tr>\n",
       "      <th>1989-05-01</th>\n",
       "      <td>-0.453253</td>\n",
       "      <td>1.987970</td>\n",
       "      <td>2.380917</td>\n",
       "      <td>2.035178</td>\n",
       "      <td>2.394380</td>\n",
       "    </tr>\n",
       "  </tbody>\n",
       "</table>\n",
       "</div>"
      ],
      "text/plain": [
       "portfolio          0         1         2         3         4\n",
       "yyyymm                                                      \n",
       "1989-01-01  4.653314  4.072377  5.421194  5.422270  8.435011\n",
       "1989-02-01 -1.491355 -0.747164 -0.764893  0.162643  1.400612\n",
       "1989-03-01  0.482401  1.110092  0.828719  1.729592  1.262335\n",
       "1989-04-01 -0.388324  2.545135  2.387296  2.626478  3.932036\n",
       "1989-05-01 -0.453253  1.987970  2.380917  2.035178  2.394380"
      ]
     },
     "execution_count": 14,
     "metadata": {},
     "output_type": "execute_result"
    }
   ],
   "source": [
    "# calculate average return for each portfolio\n",
    "fm_portfolio = fm_test.groupby(['yyyymm','portfolio'])['exret'].mean().reset_index()\n",
    "fm_portfolio = fm_portfolio.pivot(index='yyyymm', columns='portfolio', values='exret')\n",
    "fm_portfolio.head()"
   ]
  },
  {
   "cell_type": "code",
   "execution_count": 15,
   "metadata": {},
   "outputs": [
    {
     "data": {
      "text/plain": [
       "<AxesSubplot: title={'center': 'Cumulative Portfolio Return of NN3 Model'}, xlabel='yyyymm'>"
      ]
     },
     "execution_count": 15,
     "metadata": {},
     "output_type": "execute_result"
    },
    {
     "data": {
      "image/png": "[encoded data removed]",
      "text/plain": [
       "<Figure size 864x432 with 1 Axes>"
      ]
     },
     "metadata": {
      "needs_background": "light"
     },
     "output_type": "display_data"
    }
   ],
   "source": [
    "# plot the cumsum of the 5 portfolios\n",
    "fm_portfolio.cumsum().plot(figsize=(12,6), title='Cumulative Portfolio Return of NN3 Model')"
   ]
  },
  {
   "cell_type": "code",
   "execution_count": 16,
   "metadata": {},
   "outputs": [
    {
     "data": {
      "text/html": [
       "<div>\n",
       "<style scoped>\n",
       "    .dataframe tbody tr th:only-of-type {\n",
       "        vertical-align: middle;\n",
       "    }\n",
       "\n",
       "    .dataframe tbody tr th {\n",
       "        vertical-align: top;\n",
       "    }\n",
       "\n",
       "    .dataframe thead th {\n",
       "        text-align: right;\n",
       "    }\n",
       "</style>\n",
       "<table border=\"1\" class=\"dataframe\">\n",
       "  <thead>\n",
       "    <tr style=\"text-align: right;\">\n",
       "      <th>portfolio</th>\n",
       "      <th>0</th>\n",
       "      <th>1</th>\n",
       "      <th>2</th>\n",
       "      <th>3</th>\n",
       "      <th>4</th>\n",
       "    </tr>\n",
       "  </thead>\n",
       "  <tbody>\n",
       "    <tr>\n",
       "      <th>Mean</th>\n",
       "      <td>-0.017</td>\n",
       "      <td>0.611</td>\n",
       "      <td>0.819</td>\n",
       "      <td>1.122</td>\n",
       "      <td>1.827</td>\n",
       "    </tr>\n",
       "    <tr>\n",
       "      <th>Standard Error</th>\n",
       "      <td>0.338</td>\n",
       "      <td>0.266</td>\n",
       "      <td>0.241</td>\n",
       "      <td>0.275</td>\n",
       "      <td>0.381</td>\n",
       "    </tr>\n",
       "    <tr>\n",
       "      <th>T-statistic</th>\n",
       "      <td>-0.050</td>\n",
       "      <td>2.297</td>\n",
       "      <td>3.403</td>\n",
       "      <td>4.081</td>\n",
       "      <td>4.791</td>\n",
       "    </tr>\n",
       "    <tr>\n",
       "      <th>P-value</th>\n",
       "      <td>0.960</td>\n",
       "      <td>0.022</td>\n",
       "      <td>0.001</td>\n",
       "      <td>0.000</td>\n",
       "      <td>0.000</td>\n",
       "    </tr>\n",
       "    <tr>\n",
       "      <th>SR</th>\n",
       "      <td>-0.008</td>\n",
       "      <td>0.380</td>\n",
       "      <td>0.576</td>\n",
       "      <td>0.764</td>\n",
       "      <td>0.956</td>\n",
       "    </tr>\n",
       "  </tbody>\n",
       "</table>\n",
       "</div>"
      ],
      "text/plain": [
       "portfolio           0      1      2      3      4\n",
       "Mean           -0.017  0.611  0.819  1.122  1.827\n",
       "Standard Error  0.338  0.266  0.241  0.275  0.381\n",
       "T-statistic    -0.050  2.297  3.403  4.081  4.791\n",
       "P-value         0.960  0.022  0.001  0.000  0.000\n",
       "SR             -0.008  0.380  0.576  0.764  0.956"
      ]
     },
     "execution_count": 16,
     "metadata": {},
     "output_type": "execute_result"
    }
   ],
   "source": [
    "apply_newey_west_t_stat(fm_portfolio.fillna(0)).round(3)"
   ]
  },
  {
   "cell_type": "markdown",
   "metadata": {},
   "source": [
    "# NN3 model"
   ]
  },
  {
   "cell_type": "code",
   "execution_count": 17,
   "metadata": {},
   "outputs": [],
   "source": [
    "from tensorflow.keras.models import load_model"
   ]
  },
  {
   "cell_type": "code",
   "execution_count": 18,
   "metadata": {},
   "outputs": [
    {
     "name": "stderr",
     "output_type": "stream",
     "text": [
      "2023-10-11 11:36:37.649011: I tensorflow/core/platform/cpu_feature_guard.cc:193] This TensorFlow binary is optimized with oneAPI Deep Neural Network Library (oneDNN) to use the following CPU instructions in performance-critical operations:  AVX2 FMA\n",
      "To enable them in other operations, rebuild TensorFlow with the appropriate compiler flags.\n"
     ]
    },
    {
     "name": "stdout",
     "output_type": "stream",
     "text": [
      "2544/2544 [==============================] - 2s 755us/step\n",
      "2511/2511 [==============================] - 2s 813us/step\n",
      "2480/2480 [==============================] - 2s 865us/step\n",
      "2545/2545 [==============================] - 2s 707us/step\n",
      "2705/2705 [==============================] - 2s 587us/step\n",
      "2989/2989 [==============================] - 2s 625us/step\n",
      "3075/3075 [==============================] - 2s 752us/step\n",
      "3249/3249 [==============================] - 3s 752us/step\n",
      "3377/3377 [==============================] - 3s 758us/step\n",
      "3337/3337 [==============================] - 2s 722us/step\n",
      "3156/3156 [==============================] - 2s 666us/step\n",
      "3088/3088 [==============================] - 2s 617us/step\n",
      "2884/2884 [==============================] - 2s 656us/step\n",
      "2688/2688 [==============================] - 2s 615us/step\n",
      "2536/2536 [==============================] - 2s 666us/step\n",
      "2498/2498 [==============================] - 2s 655us/step\n",
      "2510/2510 [==============================] - 2s 667us/step\n",
      "2520/2520 [==============================] - 2s 675us/step\n",
      "2555/2555 [==============================] - 2s 666us/step\n",
      "2451/2451 [==============================] - 2s 672us/step\n",
      "2195/2195 [==============================] - 2s 674us/step\n",
      "2137/2137 [==============================] - 1s 654us/step\n",
      "2112/2112 [==============================] - 1s 656us/step\n",
      "2078/2078 [==============================] - 1s 670us/step\n",
      "2057/2057 [==============================] - 1s 644us/step\n",
      "2117/2117 [==============================] - 2s 689us/step\n",
      "2161/2161 [==============================] - 2s 680us/step\n",
      "2139/2139 [==============================] - 2s 671us/step\n",
      "2131/2131 [==============================] - 1s 646us/step\n",
      "2150/2150 [==============================] - 2s 704us/step\n",
      "2156/2156 [==============================] - 2s 664us/step\n",
      "2180/2180 [==============================] - 2s 671us/step\n",
      "2440/2440 [==============================] - 2s 661us/step\n"
     ]
    }
   ],
   "source": [
    "y_test = []\n",
    "y_pred = []\n",
    "for year in range(1989,2022):\n",
    "    model = load_model(file_path+'NN3_model/NN3_'+str(year)+'.keras', custom_objects={'r2_metrics': r2_metrics})\n",
    "    X_test, y, _ = dataset.LoadOneYearXY(year)\n",
    "    y_predict = model.predict(X_test)\n",
    "    y_test.extend(y)\n",
    "    y_pred.extend(y_predict)"
   ]
  },
  {
   "cell_type": "code",
   "execution_count": 19,
   "metadata": {},
   "outputs": [
    {
     "name": "stdout",
     "output_type": "stream",
     "text": [
      "11558/11558 [==============================] - 9s 732us/step\n",
      "29276/29276 [==============================] - 20s 685us/step\n"
     ]
    }
   ],
   "source": [
    "model = load_model(file_path+'NN3_model/NN3_1989.keras', custom_objects={'r2_metrics': r2_metrics})\n",
    "X_train = dataset.data[train_mask][dataset.features]\n",
    "y_train = dataset.data[train_mask]['exret']\n",
    "y_train_pred = model.predict(X_train)\n",
    "\n",
    "X_validation = dataset.data[validation_mask][dataset.features]\n",
    "y_validation = dataset.data[validation_mask]['exret']\n",
    "y_validation_pred = model.predict(X_validation)"
   ]
  },
  {
   "cell_type": "code",
   "execution_count": 20,
   "metadata": {},
   "outputs": [
    {
     "name": "stdout",
     "output_type": "stream",
     "text": [
      "Training MSE:  177.7227371207504\n",
      "Training R2:  0.005419300041517583\n",
      "Validation MSE:  266.88295948767694\n",
      "Validation R2:  0.011342810625832533\n",
      "Testing MSE:  342.95523570576665\n",
      "Testing R2:  0.004855006615962387\n"
     ]
    }
   ],
   "source": [
    "print('Training MSE: ',MSE(y_train, y_train_pred))\n",
    "print('Training R2: ', R2(y_train, y_train_pred))\n",
    "print('Validation MSE: ',MSE(y_validation, y_validation_pred))\n",
    "print('Validation R2: ', R2(y_validation, y_validation_pred))\n",
    "print('Testing MSE: ',MSE(y_test, y_pred))\n",
    "print('Testing R2: ', R2(y_test, y_pred))"
   ]
  },
  {
   "cell_type": "code",
   "execution_count": 21,
   "metadata": {},
   "outputs": [
    {
     "data": {
      "text/html": [
       "<div>\n",
       "<style scoped>\n",
       "    .dataframe tbody tr th:only-of-type {\n",
       "        vertical-align: middle;\n",
       "    }\n",
       "\n",
       "    .dataframe tbody tr th {\n",
       "        vertical-align: top;\n",
       "    }\n",
       "\n",
       "    .dataframe thead th {\n",
       "        text-align: right;\n",
       "    }\n",
       "</style>\n",
       "<table border=\"1\" class=\"dataframe\">\n",
       "  <thead>\n",
       "    <tr style=\"text-align: right;\">\n",
       "      <th></th>\n",
       "      <th>yyyymm</th>\n",
       "      <th>permno</th>\n",
       "      <th>exret</th>\n",
       "      <th>me</th>\n",
       "      <th>pred_nn</th>\n",
       "      <th>portfolio</th>\n",
       "    </tr>\n",
       "  </thead>\n",
       "  <tbody>\n",
       "    <tr>\n",
       "      <th>1319006</th>\n",
       "      <td>1989-01-01</td>\n",
       "      <td>10001</td>\n",
       "      <td>1.410784</td>\n",
       "      <td>6.487000</td>\n",
       "      <td>0.790161</td>\n",
       "      <td>3</td>\n",
       "    </tr>\n",
       "    <tr>\n",
       "      <th>1319007</th>\n",
       "      <td>1989-01-01</td>\n",
       "      <td>10002</td>\n",
       "      <td>5.420149</td>\n",
       "      <td>10.428125</td>\n",
       "      <td>0.353746</td>\n",
       "      <td>1</td>\n",
       "    </tr>\n",
       "    <tr>\n",
       "      <th>1319008</th>\n",
       "      <td>1989-01-01</td>\n",
       "      <td>10003</td>\n",
       "      <td>-4.497368</td>\n",
       "      <td>40.040500</td>\n",
       "      <td>0.593687</td>\n",
       "      <td>2</td>\n",
       "    </tr>\n",
       "    <tr>\n",
       "      <th>1319009</th>\n",
       "      <td>1989-01-01</td>\n",
       "      <td>10005</td>\n",
       "      <td>-0.550000</td>\n",
       "      <td>0.785250</td>\n",
       "      <td>0.078737</td>\n",
       "      <td>0</td>\n",
       "    </tr>\n",
       "    <tr>\n",
       "      <th>1319010</th>\n",
       "      <td>1989-01-01</td>\n",
       "      <td>10009</td>\n",
       "      <td>-1.661111</td>\n",
       "      <td>10.351000</td>\n",
       "      <td>0.941164</td>\n",
       "      <td>3</td>\n",
       "    </tr>\n",
       "  </tbody>\n",
       "</table>\n",
       "</div>"
      ],
      "text/plain": [
       "            yyyymm  permno     exret         me   pred_nn  portfolio\n",
       "1319006 1989-01-01   10001  1.410784   6.487000  0.790161          3\n",
       "1319007 1989-01-01   10002  5.420149  10.428125  0.353746          1\n",
       "1319008 1989-01-01   10003 -4.497368  40.040500  0.593687          2\n",
       "1319009 1989-01-01   10005 -0.550000   0.785250  0.078737          0\n",
       "1319010 1989-01-01   10009 -1.661111  10.351000  0.941164          3"
      ]
     },
     "execution_count": 21,
     "metadata": {},
     "output_type": "execute_result"
    }
   ],
   "source": [
    "# concat y_train_pred, y_validation_pred, y_pred into one list\n",
    "# y_pred = np.concatenate((y_train_pred, y_validation_pred, y_pred), axis=0)\n",
    "nn_test = dataset.data[test_mask]\n",
    "nn_test = nn_test.assign(pred_nn = np.array(y_pred).reshape(-1))\n",
    "nn_test = nn_test[['yyyymm','permno','exret','me','pred_nn']]\n",
    "# make yyyymm as datetime\n",
    "nn_test['yyyymm'] = pd.to_datetime(nn_test['yyyymm'], format='%Y%m')\n",
    "nn_test.head()\n",
    "# for each yyyymm, form 5 portfolios based on pred_nn\n",
    "nn_test['portfolio'] = nn_test.groupby('yyyymm')['pred_nn'].transform(lambda x: pd.qcut(x, 5, labels=False, duplicates='drop'))\n",
    "nn_test.head()"
   ]
  },
  {
   "cell_type": "code",
   "execution_count": 22,
   "metadata": {},
   "outputs": [
    {
     "data": {
      "text/html": [
       "<div>\n",
       "<style scoped>\n",
       "    .dataframe tbody tr th:only-of-type {\n",
       "        vertical-align: middle;\n",
       "    }\n",
       "\n",
       "    .dataframe tbody tr th {\n",
       "        vertical-align: top;\n",
       "    }\n",
       "\n",
       "    .dataframe thead th {\n",
       "        text-align: right;\n",
       "    }\n",
       "</style>\n",
       "<table border=\"1\" class=\"dataframe\">\n",
       "  <thead>\n",
       "    <tr style=\"text-align: right;\">\n",
       "      <th>portfolio</th>\n",
       "      <th>0</th>\n",
       "      <th>1</th>\n",
       "      <th>2</th>\n",
       "      <th>3</th>\n",
       "      <th>4</th>\n",
       "    </tr>\n",
       "    <tr>\n",
       "      <th>yyyymm</th>\n",
       "      <th></th>\n",
       "      <th></th>\n",
       "      <th></th>\n",
       "      <th></th>\n",
       "      <th></th>\n",
       "    </tr>\n",
       "  </thead>\n",
       "  <tbody>\n",
       "    <tr>\n",
       "      <th>1989-01-01</th>\n",
       "      <td>4.145310</td>\n",
       "      <td>4.721691</td>\n",
       "      <td>4.698342</td>\n",
       "      <td>4.659125</td>\n",
       "      <td>9.779090</td>\n",
       "    </tr>\n",
       "    <tr>\n",
       "      <th>1989-02-01</th>\n",
       "      <td>-2.087991</td>\n",
       "      <td>-0.217970</td>\n",
       "      <td>-0.419250</td>\n",
       "      <td>-0.048848</td>\n",
       "      <td>1.334155</td>\n",
       "    </tr>\n",
       "    <tr>\n",
       "      <th>1989-03-01</th>\n",
       "      <td>-0.053966</td>\n",
       "      <td>0.837910</td>\n",
       "      <td>0.987194</td>\n",
       "      <td>1.758369</td>\n",
       "      <td>1.883455</td>\n",
       "    </tr>\n",
       "    <tr>\n",
       "      <th>1989-04-01</th>\n",
       "      <td>-0.167648</td>\n",
       "      <td>1.712057</td>\n",
       "      <td>3.364655</td>\n",
       "      <td>3.001365</td>\n",
       "      <td>3.192908</td>\n",
       "    </tr>\n",
       "    <tr>\n",
       "      <th>1989-05-01</th>\n",
       "      <td>0.195628</td>\n",
       "      <td>1.285162</td>\n",
       "      <td>2.434858</td>\n",
       "      <td>2.120669</td>\n",
       "      <td>2.308461</td>\n",
       "    </tr>\n",
       "  </tbody>\n",
       "</table>\n",
       "</div>"
      ],
      "text/plain": [
       "portfolio          0         1         2         3         4\n",
       "yyyymm                                                      \n",
       "1989-01-01  4.145310  4.721691  4.698342  4.659125  9.779090\n",
       "1989-02-01 -2.087991 -0.217970 -0.419250 -0.048848  1.334155\n",
       "1989-03-01 -0.053966  0.837910  0.987194  1.758369  1.883455\n",
       "1989-04-01 -0.167648  1.712057  3.364655  3.001365  3.192908\n",
       "1989-05-01  0.195628  1.285162  2.434858  2.120669  2.308461"
      ]
     },
     "execution_count": 22,
     "metadata": {},
     "output_type": "execute_result"
    }
   ],
   "source": [
    "# calculate average return for each portfolio\n",
    "nn_portfolio = nn_test.groupby(['yyyymm','portfolio'])['exret'].mean().reset_index()\n",
    "nn_portfolio = nn_portfolio.pivot(index='yyyymm', columns='portfolio', values='exret')\n",
    "nn_portfolio.head()"
   ]
  },
  {
   "cell_type": "code",
   "execution_count": 23,
   "metadata": {},
   "outputs": [
    {
     "data": {
      "text/plain": [
       "<AxesSubplot: title={'center': 'Cumulative Portfolio Return of NN3 Model'}, xlabel='yyyymm'>"
      ]
     },
     "execution_count": 23,
     "metadata": {},
     "output_type": "execute_result"
    },
    {
     "data": {
      "image/png": "[encoded data removed]",
      "text/plain": [
       "<Figure size 864x432 with 1 Axes>"
      ]
     },
     "metadata": {
      "needs_background": "light"
     },
     "output_type": "display_data"
    }
   ],
   "source": [
    "# plot the cumsum of the 5 portfolios\n",
    "nn_portfolio.cumsum().plot(figsize=(12,6), title='Cumulative Portfolio Return of NN3 Model')"
   ]
  },
  {
   "cell_type": "code",
   "execution_count": 24,
   "metadata": {},
   "outputs": [
    {
     "data": {
      "text/html": [
       "<div>\n",
       "<style scoped>\n",
       "    .dataframe tbody tr th:only-of-type {\n",
       "        vertical-align: middle;\n",
       "    }\n",
       "\n",
       "    .dataframe tbody tr th {\n",
       "        vertical-align: top;\n",
       "    }\n",
       "\n",
       "    .dataframe thead th {\n",
       "        text-align: right;\n",
       "    }\n",
       "</style>\n",
       "<table border=\"1\" class=\"dataframe\">\n",
       "  <thead>\n",
       "    <tr style=\"text-align: right;\">\n",
       "      <th>portfolio</th>\n",
       "      <th>0</th>\n",
       "      <th>1</th>\n",
       "      <th>2</th>\n",
       "      <th>3</th>\n",
       "      <th>4</th>\n",
       "    </tr>\n",
       "  </thead>\n",
       "  <tbody>\n",
       "    <tr>\n",
       "      <th>Mean</th>\n",
       "      <td>-0.409</td>\n",
       "      <td>0.520</td>\n",
       "      <td>0.901</td>\n",
       "      <td>1.153</td>\n",
       "      <td>2.209</td>\n",
       "    </tr>\n",
       "    <tr>\n",
       "      <th>Standard Error</th>\n",
       "      <td>0.394</td>\n",
       "      <td>0.263</td>\n",
       "      <td>0.226</td>\n",
       "      <td>0.241</td>\n",
       "      <td>0.389</td>\n",
       "    </tr>\n",
       "    <tr>\n",
       "      <th>T-statistic</th>\n",
       "      <td>-1.037</td>\n",
       "      <td>1.977</td>\n",
       "      <td>3.985</td>\n",
       "      <td>4.786</td>\n",
       "      <td>5.681</td>\n",
       "    </tr>\n",
       "    <tr>\n",
       "      <th>P-value</th>\n",
       "      <td>0.300</td>\n",
       "      <td>0.049</td>\n",
       "      <td>0.000</td>\n",
       "      <td>0.000</td>\n",
       "      <td>0.000</td>\n",
       "    </tr>\n",
       "    <tr>\n",
       "      <th>SR</th>\n",
       "      <td>-0.193</td>\n",
       "      <td>0.380</td>\n",
       "      <td>0.724</td>\n",
       "      <td>0.847</td>\n",
       "      <td>1.099</td>\n",
       "    </tr>\n",
       "  </tbody>\n",
       "</table>\n",
       "</div>"
      ],
      "text/plain": [
       "portfolio           0      1      2      3      4\n",
       "Mean           -0.409  0.520  0.901  1.153  2.209\n",
       "Standard Error  0.394  0.263  0.226  0.241  0.389\n",
       "T-statistic    -1.037  1.977  3.985  4.786  5.681\n",
       "P-value         0.300  0.049  0.000  0.000  0.000\n",
       "SR             -0.193  0.380  0.724  0.847  1.099"
      ]
     },
     "execution_count": 24,
     "metadata": {},
     "output_type": "execute_result"
    }
   ],
   "source": [
    "apply_newey_west_t_stat(nn_portfolio.fillna(0)).round(3)"
   ]
  },
  {
   "cell_type": "markdown",
   "metadata": {},
   "source": [
    "# RF model"
   ]
  },
  {
   "cell_type": "code",
   "execution_count": 25,
   "metadata": {},
   "outputs": [],
   "source": [
    "from joblib import load"
   ]
  },
  {
   "cell_type": "code",
   "execution_count": 26,
   "metadata": {},
   "outputs": [],
   "source": [
    "y_test = []\n",
    "y_pred = []\n",
    "for year in range(1989,2022):\n",
    "    model = load(file_path+'RF_model/RF_'+str(year)+'.joblib')\n",
    "    X_test, y, _ = dataset.LoadOneYearXY(year)\n",
    "    y_predict = model.predict(X_test)\n",
    "    y_test.extend(y)\n",
    "    y_pred.extend(y_predict)"
   ]
  },
  {
   "cell_type": "code",
   "execution_count": 27,
   "metadata": {},
   "outputs": [],
   "source": [
    "model = load(file_path+'RF_model/RF_1989.joblib')\n",
    "X_train = dataset.data[train_mask][dataset.features]\n",
    "y_train = dataset.data[train_mask]['exret']\n",
    "y_train_pred = model.predict(X_train)\n",
    "\n",
    "X_validation = dataset.data[validation_mask][dataset.features]\n",
    "y_validation = dataset.data[validation_mask]['exret']\n",
    "y_validation_pred = model.predict(X_validation)"
   ]
  },
  {
   "cell_type": "code",
   "execution_count": 28,
   "metadata": {},
   "outputs": [
    {
     "name": "stdout",
     "output_type": "stream",
     "text": [
      "Training MSE:  178.8289338509668\n",
      "Training R2:  -0.0007712523664327176\n",
      "Validation MSE:  267.80216816745116\n",
      "Validation R2:  0.007937639042234768\n",
      "Testing MSE:  343.93601131041174\n",
      "Testing R2:  0.002009113534355844\n"
     ]
    }
   ],
   "source": [
    "print('Training MSE: ',MSE(y_train, y_train_pred))\n",
    "print('Training R2: ', R2(y_train, y_train_pred))\n",
    "print('Validation MSE: ',MSE(y_validation, y_validation_pred))\n",
    "print('Validation R2: ', R2(y_validation, y_validation_pred))\n",
    "print('Testing MSE: ',MSE(y_test, y_pred))\n",
    "print('Testing R2: ', R2(y_test, y_pred))"
   ]
  },
  {
   "cell_type": "code",
   "execution_count": 29,
   "metadata": {},
   "outputs": [
    {
     "data": {
      "text/plain": [
       "2679559"
      ]
     },
     "execution_count": 29,
     "metadata": {},
     "output_type": "execute_result"
    }
   ],
   "source": [
    "len(y_pred)"
   ]
  },
  {
   "cell_type": "code",
   "execution_count": 30,
   "metadata": {},
   "outputs": [
    {
     "data": {
      "text/html": [
       "<div>\n",
       "<style scoped>\n",
       "    .dataframe tbody tr th:only-of-type {\n",
       "        vertical-align: middle;\n",
       "    }\n",
       "\n",
       "    .dataframe tbody tr th {\n",
       "        vertical-align: top;\n",
       "    }\n",
       "\n",
       "    .dataframe thead th {\n",
       "        text-align: right;\n",
       "    }\n",
       "</style>\n",
       "<table border=\"1\" class=\"dataframe\">\n",
       "  <thead>\n",
       "    <tr style=\"text-align: right;\">\n",
       "      <th></th>\n",
       "      <th>yyyymm</th>\n",
       "      <th>permno</th>\n",
       "      <th>exret</th>\n",
       "      <th>me</th>\n",
       "      <th>pred_rf</th>\n",
       "      <th>portfolio</th>\n",
       "    </tr>\n",
       "  </thead>\n",
       "  <tbody>\n",
       "    <tr>\n",
       "      <th>1319006</th>\n",
       "      <td>1989-01-01</td>\n",
       "      <td>10001</td>\n",
       "      <td>1.410784</td>\n",
       "      <td>6.487000</td>\n",
       "      <td>0.701871</td>\n",
       "      <td>4</td>\n",
       "    </tr>\n",
       "    <tr>\n",
       "      <th>1319007</th>\n",
       "      <td>1989-01-01</td>\n",
       "      <td>10002</td>\n",
       "      <td>5.420149</td>\n",
       "      <td>10.428125</td>\n",
       "      <td>0.339619</td>\n",
       "      <td>1</td>\n",
       "    </tr>\n",
       "    <tr>\n",
       "      <th>1319008</th>\n",
       "      <td>1989-01-01</td>\n",
       "      <td>10003</td>\n",
       "      <td>-4.497368</td>\n",
       "      <td>40.040500</td>\n",
       "      <td>0.587046</td>\n",
       "      <td>4</td>\n",
       "    </tr>\n",
       "    <tr>\n",
       "      <th>1319009</th>\n",
       "      <td>1989-01-01</td>\n",
       "      <td>10005</td>\n",
       "      <td>-0.550000</td>\n",
       "      <td>0.785250</td>\n",
       "      <td>0.607514</td>\n",
       "      <td>4</td>\n",
       "    </tr>\n",
       "    <tr>\n",
       "      <th>1319010</th>\n",
       "      <td>1989-01-01</td>\n",
       "      <td>10009</td>\n",
       "      <td>-1.661111</td>\n",
       "      <td>10.351000</td>\n",
       "      <td>0.635646</td>\n",
       "      <td>4</td>\n",
       "    </tr>\n",
       "  </tbody>\n",
       "</table>\n",
       "</div>"
      ],
      "text/plain": [
       "            yyyymm  permno     exret         me   pred_rf  portfolio\n",
       "1319006 1989-01-01   10001  1.410784   6.487000  0.701871          4\n",
       "1319007 1989-01-01   10002  5.420149  10.428125  0.339619          1\n",
       "1319008 1989-01-01   10003 -4.497368  40.040500  0.587046          4\n",
       "1319009 1989-01-01   10005 -0.550000   0.785250  0.607514          4\n",
       "1319010 1989-01-01   10009 -1.661111  10.351000  0.635646          4"
      ]
     },
     "execution_count": 30,
     "metadata": {},
     "output_type": "execute_result"
    }
   ],
   "source": [
    "rf_test = dataset.data[test_mask]\n",
    "rf_test = rf_test.assign(pred_rf = np.array(y_pred).reshape(-1))\n",
    "rf_test = rf_test[['yyyymm','permno','exret','me','pred_rf']]\n",
    "# make yyyymm as datetime\n",
    "rf_test['yyyymm'] = pd.to_datetime(rf_test['yyyymm'], format='%Y%m')\n",
    "rf_test.head()\n",
    "# for each yyyymm, form 5 portfolios based on pred_rf\n",
    "rf_test['portfolio'] = rf_test.groupby('yyyymm')['pred_rf'].transform(lambda x: pd.qcut(x, 5, labels=False, duplicates='drop'))\n",
    "rf_test.head()"
   ]
  },
  {
   "cell_type": "code",
   "execution_count": 31,
   "metadata": {},
   "outputs": [
    {
     "data": {
      "text/html": [
       "<div>\n",
       "<style scoped>\n",
       "    .dataframe tbody tr th:only-of-type {\n",
       "        vertical-align: middle;\n",
       "    }\n",
       "\n",
       "    .dataframe tbody tr th {\n",
       "        vertical-align: top;\n",
       "    }\n",
       "\n",
       "    .dataframe thead th {\n",
       "        text-align: right;\n",
       "    }\n",
       "</style>\n",
       "<table border=\"1\" class=\"dataframe\">\n",
       "  <thead>\n",
       "    <tr style=\"text-align: right;\">\n",
       "      <th>portfolio</th>\n",
       "      <th>0</th>\n",
       "      <th>1</th>\n",
       "      <th>2</th>\n",
       "      <th>3</th>\n",
       "      <th>4</th>\n",
       "    </tr>\n",
       "    <tr>\n",
       "      <th>yyyymm</th>\n",
       "      <th></th>\n",
       "      <th></th>\n",
       "      <th></th>\n",
       "      <th></th>\n",
       "      <th></th>\n",
       "    </tr>\n",
       "  </thead>\n",
       "  <tbody>\n",
       "    <tr>\n",
       "      <th>1989-01-01</th>\n",
       "      <td>4.187475</td>\n",
       "      <td>5.187794</td>\n",
       "      <td>4.929379</td>\n",
       "      <td>5.437430</td>\n",
       "      <td>8.262553</td>\n",
       "    </tr>\n",
       "    <tr>\n",
       "      <th>1989-02-01</th>\n",
       "      <td>-1.795876</td>\n",
       "      <td>-0.329993</td>\n",
       "      <td>-0.667859</td>\n",
       "      <td>-0.173020</td>\n",
       "      <td>1.526663</td>\n",
       "    </tr>\n",
       "    <tr>\n",
       "      <th>1989-03-01</th>\n",
       "      <td>-0.389448</td>\n",
       "      <td>0.520650</td>\n",
       "      <td>0.955660</td>\n",
       "      <td>1.756694</td>\n",
       "      <td>2.569172</td>\n",
       "    </tr>\n",
       "    <tr>\n",
       "      <th>1989-04-01</th>\n",
       "      <td>0.536534</td>\n",
       "      <td>1.898438</td>\n",
       "      <td>2.506238</td>\n",
       "      <td>2.557600</td>\n",
       "      <td>3.603899</td>\n",
       "    </tr>\n",
       "    <tr>\n",
       "      <th>1989-05-01</th>\n",
       "      <td>-0.042242</td>\n",
       "      <td>2.130196</td>\n",
       "      <td>2.057743</td>\n",
       "      <td>2.132710</td>\n",
       "      <td>2.066724</td>\n",
       "    </tr>\n",
       "  </tbody>\n",
       "</table>\n",
       "</div>"
      ],
      "text/plain": [
       "portfolio          0         1         2         3         4\n",
       "yyyymm                                                      \n",
       "1989-01-01  4.187475  5.187794  4.929379  5.437430  8.262553\n",
       "1989-02-01 -1.795876 -0.329993 -0.667859 -0.173020  1.526663\n",
       "1989-03-01 -0.389448  0.520650  0.955660  1.756694  2.569172\n",
       "1989-04-01  0.536534  1.898438  2.506238  2.557600  3.603899\n",
       "1989-05-01 -0.042242  2.130196  2.057743  2.132710  2.066724"
      ]
     },
     "execution_count": 31,
     "metadata": {},
     "output_type": "execute_result"
    }
   ],
   "source": [
    "# calculate average return for each portfolio\n",
    "rf_portfolio = rf_test.groupby(['yyyymm','portfolio'])['exret'].mean().reset_index()\n",
    "rf_portfolio = rf_portfolio.pivot(index='yyyymm', columns='portfolio', values='exret')\n",
    "rf_portfolio.head()"
   ]
  },
  {
   "cell_type": "code",
   "execution_count": 32,
   "metadata": {},
   "outputs": [
    {
     "data": {
      "text/plain": [
       "<AxesSubplot: title={'center': 'Cumulative Portfolio Return of RF Model'}, xlabel='yyyymm'>"
      ]
     },
     "execution_count": 32,
     "metadata": {},
     "output_type": "execute_result"
    },
    {
     "data": {
      "image/png": "[encoded data removed]",
      "text/plain": [
       "<Figure size 864x432 with 1 Axes>"
      ]
     },
     "metadata": {
      "needs_background": "light"
     },
     "output_type": "display_data"
    }
   ],
   "source": [
    "# plot the cumsum of the 5 portfolios\n",
    "rf_portfolio.cumsum().plot(figsize=(12,6), title='Cumulative Portfolio Return of RF Model')"
   ]
  },
  {
   "cell_type": "code",
   "execution_count": 33,
   "metadata": {},
   "outputs": [
    {
     "data": {
      "text/plain": [
       "<matplotlib.legend.Legend at 0x152f87bb0>"
      ]
     },
     "execution_count": 33,
     "metadata": {},
     "output_type": "execute_result"
    },
    {
     "data": {
      "image/png": "[encoded data removed]",
      "text/plain": [
       "<Figure size 864x432 with 1 Axes>"
      ]
     },
     "metadata": {
      "needs_background": "light"
     },
     "output_type": "display_data"
    }
   ],
   "source": [
    "# calculate long-short portfolio return\n",
    "import matplotlib.pyplot as plt\n",
    "nn_portfolio['long_short'] = nn_portfolio[4] - nn_portfolio[0]\n",
    "nn_portfolio['long_short'].cumsum().plot(figsize=(12,6), title='Cumulative Long-Short Portfolio Return of NN3 Model',label='NN3')\n",
    "fm_portfolio['long_short'] = fm_portfolio[4] - fm_portfolio[0]\n",
    "fm_portfolio['long_short'].cumsum().plot(figsize=(12,6), title='Cumulative Long-Short Portfolio Return of FM3 Model',label ='FM')\n",
    "rf_portfolio['long_short'] = rf_portfolio[4] - rf_portfolio[0]\n",
    "rf_portfolio['long_short'].cumsum().plot(figsize=(12,6), title='Cumulative Long-Short Portfolio Return of RF Model', label='RF')\n",
    "plt.legend()"
   ]
  },
  {
   "cell_type": "code",
   "execution_count": 34,
   "metadata": {},
   "outputs": [
    {
     "data": {
      "text/html": [
       "<div>\n",
       "<style scoped>\n",
       "    .dataframe tbody tr th:only-of-type {\n",
       "        vertical-align: middle;\n",
       "    }\n",
       "\n",
       "    .dataframe tbody tr th {\n",
       "        vertical-align: top;\n",
       "    }\n",
       "\n",
       "    .dataframe thead th {\n",
       "        text-align: right;\n",
       "    }\n",
       "</style>\n",
       "<table border=\"1\" class=\"dataframe\">\n",
       "  <thead>\n",
       "    <tr style=\"text-align: right;\">\n",
       "      <th></th>\n",
       "      <th>NN3</th>\n",
       "      <th>RF</th>\n",
       "      <th>FM</th>\n",
       "    </tr>\n",
       "  </thead>\n",
       "  <tbody>\n",
       "    <tr>\n",
       "      <th>Mean</th>\n",
       "      <td>2.618</td>\n",
       "      <td>1.963</td>\n",
       "      <td>1.844</td>\n",
       "    </tr>\n",
       "    <tr>\n",
       "      <th>Standard Error</th>\n",
       "      <td>0.343</td>\n",
       "      <td>0.291</td>\n",
       "      <td>0.318</td>\n",
       "    </tr>\n",
       "    <tr>\n",
       "      <th>T-statistic</th>\n",
       "      <td>7.640</td>\n",
       "      <td>6.754</td>\n",
       "      <td>5.796</td>\n",
       "    </tr>\n",
       "    <tr>\n",
       "      <th>P-value</th>\n",
       "      <td>0.000</td>\n",
       "      <td>0.000</td>\n",
       "      <td>0.000</td>\n",
       "    </tr>\n",
       "    <tr>\n",
       "      <th>SR</th>\n",
       "      <td>2.635</td>\n",
       "      <td>1.853</td>\n",
       "      <td>0.938</td>\n",
       "    </tr>\n",
       "  </tbody>\n",
       "</table>\n",
       "</div>"
      ],
      "text/plain": [
       "                  NN3     RF     FM\n",
       "Mean            2.618  1.963  1.844\n",
       "Standard Error  0.343  0.291  0.318\n",
       "T-statistic     7.640  6.754  5.796\n",
       "P-value         0.000  0.000  0.000\n",
       "SR              2.635  1.853  0.938"
      ]
     },
     "execution_count": 34,
     "metadata": {},
     "output_type": "execute_result"
    }
   ],
   "source": [
    "longshort = pd.DataFrame([nn_portfolio['long_short'], rf_portfolio['long_short'], fm_portfolio['long_short']]).T\n",
    "longshort.columns = ['NN3', 'RF', 'FM']\n",
    "apply_newey_west_t_stat(longshort).round(3)"
   ]
  },
  {
   "cell_type": "code",
   "execution_count": null,
   "metadata": {},
   "outputs": [],
   "source": []
  }
 ],
 "metadata": {
  "kernelspec": {
   "display_name": "Python 3",
   "language": "python",
   "name": "python3"
  },
  "language_info": {
   "codemirror_mode": {
    "name": "ipython",
    "version": 3
   },
   "file_extension": ".py",
   "mimetype": "text/x-python",
   "name": "python",
   "nbconvert_exporter": "python",
   "pygments_lexer": "ipython3",
   "version": "3.9.1"
  },
  "orig_nbformat": 4
 },
 "nbformat": 4,
 "nbformat_minor": 2
}
