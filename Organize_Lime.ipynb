{
 "cells": [
  {
   "cell_type": "code",
   "execution_count": 2,
   "metadata": {},
   "outputs": [],
   "source": [
    "import pandas as pd\n",
    "import os"
   ]
  },
  {
   "cell_type": "code",
   "execution_count": 3,
   "metadata": {},
   "outputs": [],
   "source": [
    "data_path = '/Users/zequnli/LocalData/NN3_model/'"
   ]
  },
  {
   "cell_type": "code",
   "execution_count": 31,
   "metadata": {},
   "outputs": [],
   "source": [
    "coefficient_files = [f for f in os.listdir(data_path) if 'coefficients_' in f]\n",
    "t_stats_files = [f for f in os.listdir(data_path) if 't_stats_' in f]\n",
    "p_values_files = [f for f in os.listdir(data_path) if 'p_values_' in f]"
   ]
  },
  {
   "cell_type": "code",
   "execution_count": 32,
   "metadata": {},
   "outputs": [
    {
     "data": {
      "text/plain": [
       "35"
      ]
     },
     "execution_count": 32,
     "metadata": {},
     "output_type": "execute_result"
    }
   ],
   "source": [
    "len(t_stats_files)"
   ]
  },
  {
   "cell_type": "code",
   "execution_count": 33,
   "metadata": {},
   "outputs": [],
   "source": [
    "def merge_data(data_path,files):\n",
    "    merged_df = pd.DataFrame()\n",
    "    for file in files:\n",
    "        df = pd.read_csv(data_path+file)\n",
    "        merged_df = pd.concat([merged_df, df], axis=0, ignore_index=True)\n",
    "    return merged_df\n"
   ]
  },
  {
   "cell_type": "code",
   "execution_count": 34,
   "metadata": {},
   "outputs": [],
   "source": [
    "coefficient_df = merge_data(data_path,coefficient_files)\n",
    "t_stats_df = merge_data(data_path,t_stats_files)\n",
    "p_values_df = merge_data(data_path,p_values_files)"
   ]
  },
  {
   "cell_type": "code",
   "execution_count": 49,
   "metadata": {},
   "outputs": [],
   "source": [
    "coefficient_df.set_index('Unnamed: 0', inplace=True)\n",
    "t_stats_df.set_index('Unnamed: 0', inplace=True)\n",
    "p_values_df.set_index('Unnamed: 0', inplace=True)"
   ]
  },
  {
   "cell_type": "code",
   "execution_count": 54,
   "metadata": {},
   "outputs": [
    {
     "name": "stderr",
     "output_type": "stream",
     "text": [
      "100%|██████████| 79/79 [18:50<00:00, 14.31s/it]\n"
     ]
    }
   ],
   "source": [
    "from tqdm import tqdm\n",
    "features = coefficient_df.columns  # Assuming all dataframes have the same columns\n",
    "for feature in tqdm(features):\n",
    "    consolidated_df = pd.DataFrame({\n",
    "        'coefficient': coefficient_df[feature],\n",
    "        't_stats': t_stats_df[feature],\n",
    "        'p_values': p_values_df[feature]\n",
    "    })\n",
    "    consolidated_df.reset_index(inplace=True)\n",
    "    consolidated_df.to_csv(data_path + f'{feature}.csv', index=False)\n"
   ]
  },
  {
   "cell_type": "code",
   "execution_count": 53,
   "metadata": {},
   "outputs": [
    {
     "data": {
      "text/html": [
       "<div>\n",
       "<style scoped>\n",
       "    .dataframe tbody tr th:only-of-type {\n",
       "        vertical-align: middle;\n",
       "    }\n",
       "\n",
       "    .dataframe tbody tr th {\n",
       "        vertical-align: top;\n",
       "    }\n",
       "\n",
       "    .dataframe thead th {\n",
       "        text-align: right;\n",
       "    }\n",
       "</style>\n",
       "<table border=\"1\" class=\"dataframe\">\n",
       "  <thead>\n",
       "    <tr style=\"text-align: right;\">\n",
       "      <th></th>\n",
       "      <th>coefficient</th>\n",
       "      <th>t_stats</th>\n",
       "      <th>p_values</th>\n",
       "    </tr>\n",
       "    <tr>\n",
       "      <th>Unnamed: 0</th>\n",
       "      <th></th>\n",
       "      <th></th>\n",
       "      <th></th>\n",
       "    </tr>\n",
       "  </thead>\n",
       "  <tbody>\n",
       "    <tr>\n",
       "      <th>1152617</th>\n",
       "      <td>1.286180e-01</td>\n",
       "      <td>7.293247e+01</td>\n",
       "      <td>0.000000e+00</td>\n",
       "    </tr>\n",
       "    <tr>\n",
       "      <th>1152618</th>\n",
       "      <td>1.499774e-02</td>\n",
       "      <td>5.634086e+00</td>\n",
       "      <td>1.856267e-08</td>\n",
       "    </tr>\n",
       "    <tr>\n",
       "      <th>1152619</th>\n",
       "      <td>1.303159e-01</td>\n",
       "      <td>6.265702e+01</td>\n",
       "      <td>0.000000e+00</td>\n",
       "    </tr>\n",
       "    <tr>\n",
       "      <th>1152620</th>\n",
       "      <td>2.601232e-02</td>\n",
       "      <td>7.297021e+00</td>\n",
       "      <td>3.406164e-13</td>\n",
       "    </tr>\n",
       "    <tr>\n",
       "      <th>1152621</th>\n",
       "      <td>9.739498e-02</td>\n",
       "      <td>3.870993e+01</td>\n",
       "      <td>0.000000e+00</td>\n",
       "    </tr>\n",
       "    <tr>\n",
       "      <th>...</th>\n",
       "      <td>...</td>\n",
       "      <td>...</td>\n",
       "      <td>...</td>\n",
       "    </tr>\n",
       "    <tr>\n",
       "      <th>3998560</th>\n",
       "      <td>2.009832e-30</td>\n",
       "      <td>8.896232e-13</td>\n",
       "      <td>1.000000e+00</td>\n",
       "    </tr>\n",
       "    <tr>\n",
       "      <th>3998561</th>\n",
       "      <td>2.759165e-31</td>\n",
       "      <td>1.204717e-13</td>\n",
       "      <td>1.000000e+00</td>\n",
       "    </tr>\n",
       "    <tr>\n",
       "      <th>3998562</th>\n",
       "      <td>-3.056566e-31</td>\n",
       "      <td>-1.816612e-13</td>\n",
       "      <td>1.000000e+00</td>\n",
       "    </tr>\n",
       "    <tr>\n",
       "      <th>3998563</th>\n",
       "      <td>0.000000e+00</td>\n",
       "      <td>NaN</td>\n",
       "      <td>NaN</td>\n",
       "    </tr>\n",
       "    <tr>\n",
       "      <th>3998564</th>\n",
       "      <td>-1.697926e-30</td>\n",
       "      <td>-1.036744e-12</td>\n",
       "      <td>1.000000e+00</td>\n",
       "    </tr>\n",
       "  </tbody>\n",
       "</table>\n",
       "<p>2845948 rows × 3 columns</p>\n",
       "</div>"
      ],
      "text/plain": [
       "             coefficient       t_stats      p_values\n",
       "Unnamed: 0                                          \n",
       "1152617     1.286180e-01  7.293247e+01  0.000000e+00\n",
       "1152618     1.499774e-02  5.634086e+00  1.856267e-08\n",
       "1152619     1.303159e-01  6.265702e+01  0.000000e+00\n",
       "1152620     2.601232e-02  7.297021e+00  3.406164e-13\n",
       "1152621     9.739498e-02  3.870993e+01  0.000000e+00\n",
       "...                  ...           ...           ...\n",
       "3998560     2.009832e-30  8.896232e-13  1.000000e+00\n",
       "3998561     2.759165e-31  1.204717e-13  1.000000e+00\n",
       "3998562    -3.056566e-31 -1.816612e-13  1.000000e+00\n",
       "3998563     0.000000e+00           NaN           NaN\n",
       "3998564    -1.697926e-30 -1.036744e-12  1.000000e+00\n",
       "\n",
       "[2845948 rows x 3 columns]"
      ]
     },
     "execution_count": 53,
     "metadata": {},
     "output_type": "execute_result"
    }
   ],
   "source": [
    "consolidated_df"
   ]
  },
  {
   "cell_type": "code",
   "execution_count": null,
   "metadata": {},
   "outputs": [],
   "source": []
  }
 ],
 "metadata": {
  "kernelspec": {
   "display_name": "Python 3",
   "language": "python",
   "name": "python3"
  },
  "language_info": {
   "codemirror_mode": {
    "name": "ipython",
    "version": 3
   },
   "file_extension": ".py",
   "mimetype": "text/x-python",
   "name": "python",
   "nbconvert_exporter": "python",
   "pygments_lexer": "ipython3",
   "version": "3.9.1"
  },
  "orig_nbformat": 4
 },
 "nbformat": 4,
 "nbformat_minor": 2
}
